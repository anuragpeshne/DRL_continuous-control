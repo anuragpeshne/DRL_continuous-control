{
 "cells": [
  {
   "cell_type": "markdown",
   "id": "1b183c92",
   "metadata": {},
   "source": [
    "# Deep Deterministic Policy Gradients (DDPG)"
   ]
  },
  {
   "cell_type": "markdown",
   "id": "0ce60d42",
   "metadata": {},
   "source": [
    "Homework project for DRL Continuous Action."
   ]
  },
  {
   "cell_type": "markdown",
   "id": "c81e1da8",
   "metadata": {},
   "source": [
    "### 1. Import the Necessary Packages"
   ]
  },
  {
   "cell_type": "code",
   "execution_count": null,
   "id": "c7f79197",
   "metadata": {},
   "outputs": [],
   "source": [
    "import gym\n",
    "import random\n",
    "import torch\n",
    "import numpy as np\n",
    "from collections import deque\n",
    "from unityagents import UnityEnvironment\n",
    "import matplotlib.pyplot as plt\n",
    "%matplotlib inline\n",
    "\n",
    "from ddpg_agent import Agent"
   ]
  },
  {
   "cell_type": "markdown",
   "id": "a028bf47",
   "metadata": {},
   "source": [
    "### 2. Instantiate the Environment and Agent"
   ]
  },
  {
   "cell_type": "markdown",
   "id": "b6b42300",
   "metadata": {},
   "source": [
    "#### 2.1 Start the Environment"
   ]
  },
  {
   "cell_type": "markdown",
   "id": "49158a68",
   "metadata": {},
   "source": [
    "Before running the code cell below, change the file_name parameter to match the location of the Unity environment that you downloaded.\n",
    "\n",
    "- Mac: \"unity_env_single_agent/Reacher.app\"\n",
    "- Windows (x86): \"unity_env_single_agent/Reacher_Windows_x86/Reacher.exe\"\n",
    "- Windows (x86_64): \"unity_env_single_agent/Reacher_Windows_x86_64/Reacher.exe\"\n",
    "- Linux (x86): \"unity_env_single_agent/Reacher.x86\"\n",
    "- Linux (x86_64): \"unity_env_single_agent/Reacher.x86_64\"\n",
    "- Linux (x86, headless): \"unity_env_single_agent/Reacher_Linux_NoVis/Reacher.x86\"\n",
    "- Linux (x86_64, headless): \"unity_env_single_agent/Reacher_Linux_NoVis/Reacher.x86_64\"\n",
    "\n",
    "For instance, if you are using a Mac, then you downloaded Reacher.app. If this file is in the same folder as the notebook, then the line below should appear as follows:\n",
    "\n",
    "env = UnityEnvironment(file_name=\"Reacher.app\")"
   ]
  },
  {
   "cell_type": "code",
   "execution_count": null,
   "id": "ac76f68f",
   "metadata": {},
   "outputs": [],
   "source": [
    "env = UnityEnvironment(file_name='unity_env_single_agent/Reacher.x86_64')"
   ]
  },
  {
   "cell_type": "markdown",
   "id": "9ea9bb47",
   "metadata": {},
   "source": [
    "Environments contain brains which are responsible for deciding the actions of their associated agents. Here we check for the first brain available, and set it as the default brain we will be controlling from Python."
   ]
  },
  {
   "cell_type": "code",
   "execution_count": null,
   "id": "1ad76b18",
   "metadata": {},
   "outputs": [],
   "source": [
    "# get the default brain\n",
    "brain_name = env.brain_names[0]\n",
    "brain = env.brains[brain_name]"
   ]
  },
  {
   "cell_type": "markdown",
   "id": "c9b27849",
   "metadata": {},
   "source": [
    "#### 2.2 Examine the State and Action Spaces"
   ]
  },
  {
   "cell_type": "markdown",
   "id": "a1d747b0",
   "metadata": {},
   "source": [
    "In this environment, a double-jointed arm can move to target locations. A reward of +0.1 is provided for each step that the agent's hand is in the goal location. Thus, the goal of your agent is to maintain its position at the target location for as many time steps as possible.\n",
    "\n",
    "The observation space consists of 33 variables corresponding to position, rotation, velocity, and angular velocities of the arm. Each action is a vector with four numbers, corresponding to torque applicable to two joints. Every entry in the action vector must be a number between -1 and 1.\n",
    "\n",
    "Run the code cell below to print some information about the environment."
   ]
  },
  {
   "cell_type": "code",
   "execution_count": null,
   "id": "482b77eb",
   "metadata": {},
   "outputs": [],
   "source": [
    "# reset the environment\n",
    "env_info = env.reset(train_mode=True)[brain_name]\n",
    "\n",
    "# number of agents\n",
    "num_agents = len(env_info.agents)\n",
    "print('Number of agents:', num_agents)\n",
    "\n",
    "# size of each action\n",
    "action_size = brain.vector_action_space_size\n",
    "print('Size of each action:', action_size)\n",
    "\n",
    "# examine the state space \n",
    "states = env_info.vector_observations\n",
    "state_size = states.shape[1]\n",
    "print('There are {} agents. Each observes a state with length: {}'.format(states.shape[0], state_size))\n",
    "print('The state for the first agent looks like:', states[0])"
   ]
  },
  {
   "cell_type": "markdown",
   "id": "883eb7ba",
   "metadata": {},
   "source": [
    "### 3. Train the Agent with DDPG"
   ]
  },
  {
   "cell_type": "markdown",
   "id": "4993ecda",
   "metadata": {},
   "source": [
    "#### 3.1 Instantiate Agent with DDPG"
   ]
  },
  {
   "cell_type": "code",
   "execution_count": null,
   "id": "a69072c9",
   "metadata": {},
   "outputs": [],
   "source": [
    "from ddpg_agent import Agent\n",
    "\n",
    "agents = [Agent(state_size=state_size, action_size=action_size, random_seed=12) for _ in range(num_agents)]"
   ]
  },
  {
   "cell_type": "markdown",
   "id": "d5653579",
   "metadata": {},
   "source": [
    "Few utilitity functions:"
   ]
  },
  {
   "cell_type": "code",
   "execution_count": null,
   "id": "17967e87",
   "metadata": {},
   "outputs": [],
   "source": [
    "def do_all(iterable, func):\n",
    "    for i in iter(iterable):\n",
    "       func(i)"
   ]
  },
  {
   "cell_type": "code",
   "execution_count": null,
   "id": "9db4be8a",
   "metadata": {},
   "outputs": [],
   "source": [
    "def get_SARs(env_info):\n",
    "    next_state = env_info.vector_observations\n",
    "    reward = env_info.rewards\n",
    "    done = env_info.local_done\n",
    "    return (next_state, reward, done)"
   ]
  },
  {
   "cell_type": "code",
   "execution_count": null,
   "id": "09cdd0e7",
   "metadata": {},
   "outputs": [],
   "source": [
    "def ddpg(n_episodes=2000, max_t=700):\n",
    "    scores_deque = deque(maxlen=100)\n",
    "    scores = []\n",
    "    max_score = -np.Inf\n",
    "    for i_episode in range(1, n_episodes+1):\n",
    "        env_info = env.reset(train_mode=True)[brain_name]\n",
    "        states = env_info.vector_observations\n",
    "        do_all(agents, lambda agent: agent.reset())\n",
    "        score = 0\n",
    "        for t in range(max_t):\n",
    "            actions = [agents[i].act(states[i]) for i in range(len(env_info.agents))]\n",
    "            env_info = env.step(actions)[brain_name]\n",
    "            next_states, rewards, dones = get_SARs(env_info)\n",
    "            [agents[i].step(states[i], actions[i], rewards[i], next_states[i], dones[i]) for i in range(len(env_info.agents))]\n",
    "            \n",
    "            states = next_states\n",
    "            score += np.mean(rewards)\n",
    "            if sum(dones) > 0:\n",
    "                break \n",
    "        scores_deque.append(score)\n",
    "        scores.append(score)\n",
    "        print('\\rEpisode {}\\tAverage Score: {:.2f}\\tScore: {:.2f}'.format(i_episode, np.mean(scores_deque), score), end=\"\")\n",
    "        if i_episode % 100 == 0:\n",
    "            torch.save(agents[0].actor_local.state_dict(), 'checkpoint_actor.pth')\n",
    "            torch.save(agents[0].critic_local.state_dict(), 'checkpoint_critic.pth')\n",
    "            print('\\rEpisode {}\\tAverage Score: {:.2f}'.format(i_episode, np.mean(scores_deque)))   \n",
    "    return scores\n",
    "\n",
    "scores = ddpg()\n",
    "\n",
    "fig = plt.figure()\n",
    "ax = fig.add_subplot(111)\n",
    "plt.plot(np.arange(1, len(scores)+1), scores)\n",
    "plt.ylabel('Score')\n",
    "plt.xlabel('Episode #')\n",
    "plt.show()"
   ]
  },
  {
   "cell_type": "markdown",
   "id": "c6783156",
   "metadata": {},
   "source": [
    "### 4. Watch a Smart Agent"
   ]
  },
  {
   "cell_type": "code",
   "execution_count": null,
   "id": "2d28ef6f",
   "metadata": {},
   "outputs": [],
   "source": [
    "agent.actor_local.load_state_dict(torch.load('checkpoint_actor.pth'))\n",
    "agent.critic_local.load_state_dict(torch.load('checkpoint_critic.pth'))\n",
    "\n",
    "for i in range(3):\n",
    "    env_info = env.reset(train_mode=True)[brain_name]     # reset the environment    \n",
    "    states = env_info.vector_observations                  # get the current state (for each agent)\n",
    "    scores = np.zeros(num_agents)                          # initialize the score (for each agent)\n",
    "    while True:\n",
    "        actions = agents.act(state, 0., reward)            # select an action (for each agent)\n",
    "        actions = np.clip(actions, -1, 1)                  # all actions between -1 and 1\n",
    "        env_info = env.step(actions)[brain_name]           # send all actions to tne environment\n",
    "        next_states = env_info.vector_observations         # get next state (for each agent)\n",
    "        rewards = env_info.rewards                         # get reward (for each agent)\n",
    "        dones = env_info.local_done                        # see if episode finished\n",
    "        scores += env_info.rewards                         # update the score (for each agent)\n",
    "        states = next_states                               # roll over states to next time step\n",
    "        if np.any(dones):                                  # exit loop if episode finished\n",
    "            break\n",
    "    print('Total score (averaged over agents) this episode: {}'.format(np.mean(scores)))"
   ]
  },
  {
   "cell_type": "markdown",
   "id": "d5371d2e",
   "metadata": {},
   "source": [
    "### 5. Cleanup"
   ]
  },
  {
   "cell_type": "markdown",
   "id": "24e1cc0c",
   "metadata": {},
   "source": [
    "When finished, you can close the environment."
   ]
  },
  {
   "cell_type": "code",
   "execution_count": null,
   "id": "86a91b9c",
   "metadata": {},
   "outputs": [],
   "source": [
    "env.close()"
   ]
  }
 ],
 "metadata": {
  "kernelspec": {
   "display_name": "drlnd",
   "language": "python",
   "name": "drlnd"
  },
  "language_info": {
   "codemirror_mode": {
    "name": "ipython",
    "version": 3
   },
   "file_extension": ".py",
   "mimetype": "text/x-python",
   "name": "python",
   "nbconvert_exporter": "python",
   "pygments_lexer": "ipython3",
   "version": "3.6.13"
  }
 },
 "nbformat": 4,
 "nbformat_minor": 5
}
